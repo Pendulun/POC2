{
 "cells": [
  {
   "cell_type": "code",
   "execution_count": 83,
   "id": "19948fd5-292b-4bd8-84ad-15d09d2e2f9e",
   "metadata": {},
   "outputs": [],
   "source": [
    "import pandas as pd\n",
    "import pathlib\n",
    "import matplotlib.pyplot as plt\n",
    "%matplotlib inline"
   ]
  },
  {
   "cell_type": "code",
   "execution_count": 84,
   "id": "0fe79361-14b4-4c21-b685-a05ae46a3216",
   "metadata": {},
   "outputs": [],
   "source": [
    "poc1_folder = pathlib.Path(\"../../data/POC1_data/\")\n",
    "\n",
    "all_cities_metrics = poc1_folder / \"final_df.csv\"\n",
    "all_cities_df = pd.read_csv(all_cities_metrics)"
   ]
  },
  {
   "cell_type": "code",
   "execution_count": 85,
   "id": "68278fbc-d494-42bb-aeec-4b26f7050f2f",
   "metadata": {},
   "outputs": [
    {
     "data": {
      "text/plain": [
       "(8909, 102)"
      ]
     },
     "execution_count": 85,
     "metadata": {},
     "output_type": "execute_result"
    }
   ],
   "source": [
    "all_cities_df.shape"
   ]
  },
  {
   "cell_type": "code",
   "execution_count": 86,
   "id": "fed1f2f7-4630-462b-905c-83b34e12dd74",
   "metadata": {},
   "outputs": [
    {
     "data": {
      "text/html": [
       "<div>\n",
       "<style scoped>\n",
       "    .dataframe tbody tr th:only-of-type {\n",
       "        vertical-align: middle;\n",
       "    }\n",
       "\n",
       "    .dataframe tbody tr th {\n",
       "        vertical-align: top;\n",
       "    }\n",
       "\n",
       "    .dataframe thead th {\n",
       "        text-align: right;\n",
       "    }\n",
       "</style>\n",
       "<table border=\"1\" class=\"dataframe\">\n",
       "  <thead>\n",
       "    <tr style=\"text-align: right;\">\n",
       "      <th></th>\n",
       "      <th>country</th>\n",
       "      <th>country_iso</th>\n",
       "      <th>core_city</th>\n",
       "      <th>uc_id</th>\n",
       "      <th>cc_avg_dir</th>\n",
       "      <th>cc_avg_undir</th>\n",
       "      <th>cc_wt_avg_dir</th>\n",
       "      <th>cc_wt_avg_undir</th>\n",
       "      <th>circuity</th>\n",
       "      <th>elev_iqr</th>\n",
       "      <th>...</th>\n",
       "      <th>21way_int_prop</th>\n",
       "      <th>22way_int_prop</th>\n",
       "      <th>23way_int_prop</th>\n",
       "      <th>24way_int_prop</th>\n",
       "      <th>25way_int_prop</th>\n",
       "      <th>26way_int_prop</th>\n",
       "      <th>27way_int_prop</th>\n",
       "      <th>28way_int_prop</th>\n",
       "      <th>pop_density</th>\n",
       "      <th>prop_used_area</th>\n",
       "    </tr>\n",
       "  </thead>\n",
       "  <tbody>\n",
       "    <tr>\n",
       "      <th>0</th>\n",
       "      <td>indonesia</td>\n",
       "      <td>IDN</td>\n",
       "      <td>wates</td>\n",
       "      <td>12375</td>\n",
       "      <td>0.036690</td>\n",
       "      <td>0.038630</td>\n",
       "      <td>0.004276</td>\n",
       "      <td>0.004359</td>\n",
       "      <td>1.065403</td>\n",
       "      <td>11.0</td>\n",
       "      <td>...</td>\n",
       "      <td>NaN</td>\n",
       "      <td>NaN</td>\n",
       "      <td>NaN</td>\n",
       "      <td>NaN</td>\n",
       "      <td>NaN</td>\n",
       "      <td>NaN</td>\n",
       "      <td>NaN</td>\n",
       "      <td>NaN</td>\n",
       "      <td>22689.351429</td>\n",
       "      <td>0.168496</td>\n",
       "    </tr>\n",
       "    <tr>\n",
       "      <th>1</th>\n",
       "      <td>brazil</td>\n",
       "      <td>BRA</td>\n",
       "      <td>taquaralto</td>\n",
       "      <td>1186</td>\n",
       "      <td>0.024520</td>\n",
       "      <td>0.035016</td>\n",
       "      <td>0.001195</td>\n",
       "      <td>0.001439</td>\n",
       "      <td>1.008276</td>\n",
       "      <td>18.0</td>\n",
       "      <td>...</td>\n",
       "      <td>NaN</td>\n",
       "      <td>NaN</td>\n",
       "      <td>NaN</td>\n",
       "      <td>NaN</td>\n",
       "      <td>NaN</td>\n",
       "      <td>NaN</td>\n",
       "      <td>NaN</td>\n",
       "      <td>NaN</td>\n",
       "      <td>9363.163689</td>\n",
       "      <td>0.481018</td>\n",
       "    </tr>\n",
       "    <tr>\n",
       "      <th>2</th>\n",
       "      <td>china</td>\n",
       "      <td>CHN</td>\n",
       "      <td>xinqiao</td>\n",
       "      <td>12218</td>\n",
       "      <td>0.036481</td>\n",
       "      <td>0.045724</td>\n",
       "      <td>0.001608</td>\n",
       "      <td>0.001723</td>\n",
       "      <td>1.016544</td>\n",
       "      <td>2.0</td>\n",
       "      <td>...</td>\n",
       "      <td>NaN</td>\n",
       "      <td>NaN</td>\n",
       "      <td>NaN</td>\n",
       "      <td>NaN</td>\n",
       "      <td>NaN</td>\n",
       "      <td>NaN</td>\n",
       "      <td>NaN</td>\n",
       "      <td>NaN</td>\n",
       "      <td>4747.217111</td>\n",
       "      <td>0.525190</td>\n",
       "    </tr>\n",
       "    <tr>\n",
       "      <th>3</th>\n",
       "      <td>colombia</td>\n",
       "      <td>COL</td>\n",
       "      <td>yopal</td>\n",
       "      <td>687</td>\n",
       "      <td>0.016110</td>\n",
       "      <td>0.019414</td>\n",
       "      <td>0.001072</td>\n",
       "      <td>0.001221</td>\n",
       "      <td>1.011106</td>\n",
       "      <td>16.0</td>\n",
       "      <td>...</td>\n",
       "      <td>NaN</td>\n",
       "      <td>NaN</td>\n",
       "      <td>NaN</td>\n",
       "      <td>NaN</td>\n",
       "      <td>NaN</td>\n",
       "      <td>NaN</td>\n",
       "      <td>NaN</td>\n",
       "      <td>NaN</td>\n",
       "      <td>29654.434191</td>\n",
       "      <td>0.352858</td>\n",
       "    </tr>\n",
       "    <tr>\n",
       "      <th>4</th>\n",
       "      <td>czech_republic</td>\n",
       "      <td>CZE</td>\n",
       "      <td>pilsen</td>\n",
       "      <td>2886</td>\n",
       "      <td>0.032913</td>\n",
       "      <td>0.044298</td>\n",
       "      <td>0.001418</td>\n",
       "      <td>0.001758</td>\n",
       "      <td>1.047311</td>\n",
       "      <td>24.0</td>\n",
       "      <td>...</td>\n",
       "      <td>NaN</td>\n",
       "      <td>NaN</td>\n",
       "      <td>NaN</td>\n",
       "      <td>NaN</td>\n",
       "      <td>NaN</td>\n",
       "      <td>NaN</td>\n",
       "      <td>NaN</td>\n",
       "      <td>NaN</td>\n",
       "      <td>5057.822603</td>\n",
       "      <td>0.530648</td>\n",
       "    </tr>\n",
       "  </tbody>\n",
       "</table>\n",
       "<p>5 rows × 102 columns</p>\n",
       "</div>"
      ],
      "text/plain": [
       "          country country_iso   core_city  uc_id  cc_avg_dir  cc_avg_undir   \n",
       "0       indonesia         IDN       wates  12375    0.036690      0.038630  \\\n",
       "1          brazil         BRA  taquaralto   1186    0.024520      0.035016   \n",
       "2           china         CHN     xinqiao  12218    0.036481      0.045724   \n",
       "3        colombia         COL       yopal    687    0.016110      0.019414   \n",
       "4  czech_republic         CZE      pilsen   2886    0.032913      0.044298   \n",
       "\n",
       "   cc_wt_avg_dir  cc_wt_avg_undir  circuity  elev_iqr  ...  21way_int_prop   \n",
       "0       0.004276         0.004359  1.065403      11.0  ...             NaN  \\\n",
       "1       0.001195         0.001439  1.008276      18.0  ...             NaN   \n",
       "2       0.001608         0.001723  1.016544       2.0  ...             NaN   \n",
       "3       0.001072         0.001221  1.011106      16.0  ...             NaN   \n",
       "4       0.001418         0.001758  1.047311      24.0  ...             NaN   \n",
       "\n",
       "   22way_int_prop  23way_int_prop  24way_int_prop  25way_int_prop   \n",
       "0             NaN             NaN             NaN             NaN  \\\n",
       "1             NaN             NaN             NaN             NaN   \n",
       "2             NaN             NaN             NaN             NaN   \n",
       "3             NaN             NaN             NaN             NaN   \n",
       "4             NaN             NaN             NaN             NaN   \n",
       "\n",
       "   26way_int_prop  27way_int_prop  28way_int_prop   pop_density   \n",
       "0             NaN             NaN             NaN  22689.351429  \\\n",
       "1             NaN             NaN             NaN   9363.163689   \n",
       "2             NaN             NaN             NaN   4747.217111   \n",
       "3             NaN             NaN             NaN  29654.434191   \n",
       "4             NaN             NaN             NaN   5057.822603   \n",
       "\n",
       "   prop_used_area  \n",
       "0        0.168496  \n",
       "1        0.481018  \n",
       "2        0.525190  \n",
       "3        0.352858  \n",
       "4        0.530648  \n",
       "\n",
       "[5 rows x 102 columns]"
      ]
     },
     "execution_count": 86,
     "metadata": {},
     "output_type": "execute_result"
    }
   ],
   "source": [
    "all_cities_df.head()"
   ]
  },
  {
   "cell_type": "code",
   "execution_count": 93,
   "id": "d221f141-fdf0-48b4-aa46-4e2f03c65bbe",
   "metadata": {},
   "outputs": [
    {
     "data": {
      "image/png": "[encoded data removed]",
      "text/plain": [
       "<Figure size 640x480 with 1 Axes>"
      ]
     },
     "metadata": {},
     "output_type": "display_data"
    }
   ],
   "source": [
    "top = 20\n",
    "ax = all_cities_df['country_iso'].value_counts()[:top].plot.bar()\n",
    "ax.set_title(f\"Num of cities per country (top {top})\")\n",
    "plt.show()"
   ]
  },
  {
   "cell_type": "code",
   "execution_count": 88,
   "id": "614e0def-b59b-42a5-9435-ea653b66fb74",
   "metadata": {},
   "outputs": [],
   "source": [
    "chosen_cities_path = poc1_folder / \"chosen_cities.csv\"\n",
    "planned_df = pd.read_csv(chosen_cities_path)"
   ]
  },
  {
   "cell_type": "code",
   "execution_count": 89,
   "id": "d7cb711f-34ce-418a-a43b-0f4bc8db6f7d",
   "metadata": {},
   "outputs": [
    {
     "data": {
      "text/plain": [
       "(313, 56)"
      ]
     },
     "execution_count": 89,
     "metadata": {},
     "output_type": "execute_result"
    }
   ],
   "source": [
    "planned_df.shape"
   ]
  },
  {
   "cell_type": "code",
   "execution_count": 90,
   "id": "22923f5d-995e-47ba-82dd-e2d880b02ed6",
   "metadata": {},
   "outputs": [
    {
     "data": {
      "text/html": [
       "<div>\n",
       "<style scoped>\n",
       "    .dataframe tbody tr th:only-of-type {\n",
       "        vertical-align: middle;\n",
       "    }\n",
       "\n",
       "    .dataframe tbody tr th {\n",
       "        vertical-align: top;\n",
       "    }\n",
       "\n",
       "    .dataframe thead th {\n",
       "        text-align: right;\n",
       "    }\n",
       "</style>\n",
       "<table border=\"1\" class=\"dataframe\">\n",
       "  <thead>\n",
       "    <tr style=\"text-align: right;\">\n",
       "      <th></th>\n",
       "      <th>country</th>\n",
       "      <th>country_iso</th>\n",
       "      <th>core_city</th>\n",
       "      <th>uc_id</th>\n",
       "      <th>cc_avg_dir</th>\n",
       "      <th>cc_avg_undir</th>\n",
       "      <th>cc_wt_avg_dir</th>\n",
       "      <th>cc_wt_avg_undir</th>\n",
       "      <th>circuity</th>\n",
       "      <th>elev_iqr</th>\n",
       "      <th>...</th>\n",
       "      <th>meshedness_coefficient</th>\n",
       "      <th>pop_density</th>\n",
       "      <th>prop_used_area</th>\n",
       "      <th>big</th>\n",
       "      <th>organic</th>\n",
       "      <th>3_way_cities</th>\n",
       "      <th>type_one_city</th>\n",
       "      <th>type_two_city</th>\n",
       "      <th>city_type</th>\n",
       "      <th>chosen</th>\n",
       "    </tr>\n",
       "  </thead>\n",
       "  <tbody>\n",
       "    <tr>\n",
       "      <th>0</th>\n",
       "      <td>brazil</td>\n",
       "      <td>BRA</td>\n",
       "      <td>gurupi</td>\n",
       "      <td>1167</td>\n",
       "      <td>0.025382</td>\n",
       "      <td>0.031759</td>\n",
       "      <td>0.001664</td>\n",
       "      <td>0.001856</td>\n",
       "      <td>1.010663</td>\n",
       "      <td>19.0</td>\n",
       "      <td>...</td>\n",
       "      <td>0.979855</td>\n",
       "      <td>9288.154109</td>\n",
       "      <td>0.350082</td>\n",
       "      <td>False</td>\n",
       "      <td>True</td>\n",
       "      <td>False</td>\n",
       "      <td>True</td>\n",
       "      <td>False</td>\n",
       "      <td>1</td>\n",
       "      <td>True</td>\n",
       "    </tr>\n",
       "    <tr>\n",
       "      <th>1</th>\n",
       "      <td>ecuador</td>\n",
       "      <td>ECU</td>\n",
       "      <td>pasaje</td>\n",
       "      <td>435</td>\n",
       "      <td>0.019233</td>\n",
       "      <td>0.021797</td>\n",
       "      <td>0.001809</td>\n",
       "      <td>0.001994</td>\n",
       "      <td>1.019819</td>\n",
       "      <td>4.0</td>\n",
       "      <td>...</td>\n",
       "      <td>1.006275</td>\n",
       "      <td>23517.269167</td>\n",
       "      <td>0.261534</td>\n",
       "      <td>False</td>\n",
       "      <td>True</td>\n",
       "      <td>False</td>\n",
       "      <td>True</td>\n",
       "      <td>False</td>\n",
       "      <td>1</td>\n",
       "      <td>True</td>\n",
       "    </tr>\n",
       "    <tr>\n",
       "      <th>2</th>\n",
       "      <td>colombia</td>\n",
       "      <td>COL</td>\n",
       "      <td>el_carmen_de_bolivar</td>\n",
       "      <td>608</td>\n",
       "      <td>0.029501</td>\n",
       "      <td>0.029762</td>\n",
       "      <td>0.001410</td>\n",
       "      <td>0.001443</td>\n",
       "      <td>1.019432</td>\n",
       "      <td>26.0</td>\n",
       "      <td>...</td>\n",
       "      <td>1.087108</td>\n",
       "      <td>26846.920532</td>\n",
       "      <td>0.313369</td>\n",
       "      <td>False</td>\n",
       "      <td>True</td>\n",
       "      <td>False</td>\n",
       "      <td>True</td>\n",
       "      <td>False</td>\n",
       "      <td>1</td>\n",
       "      <td>True</td>\n",
       "    </tr>\n",
       "    <tr>\n",
       "      <th>3</th>\n",
       "      <td>kazakhstan</td>\n",
       "      <td>KAZ</td>\n",
       "      <td>zhanaozen</td>\n",
       "      <td>5649</td>\n",
       "      <td>0.026850</td>\n",
       "      <td>0.031626</td>\n",
       "      <td>0.002316</td>\n",
       "      <td>0.002450</td>\n",
       "      <td>1.023291</td>\n",
       "      <td>7.0</td>\n",
       "      <td>...</td>\n",
       "      <td>1.026153</td>\n",
       "      <td>10670.246699</td>\n",
       "      <td>0.381292</td>\n",
       "      <td>False</td>\n",
       "      <td>True</td>\n",
       "      <td>False</td>\n",
       "      <td>False</td>\n",
       "      <td>True</td>\n",
       "      <td>2</td>\n",
       "      <td>True</td>\n",
       "    </tr>\n",
       "    <tr>\n",
       "      <th>4</th>\n",
       "      <td>china</td>\n",
       "      <td>CHN</td>\n",
       "      <td>juxian</td>\n",
       "      <td>11648</td>\n",
       "      <td>0.043680</td>\n",
       "      <td>0.047587</td>\n",
       "      <td>0.003427</td>\n",
       "      <td>0.003780</td>\n",
       "      <td>1.009743</td>\n",
       "      <td>4.0</td>\n",
       "      <td>...</td>\n",
       "      <td>0.906621</td>\n",
       "      <td>4773.471552</td>\n",
       "      <td>0.598367</td>\n",
       "      <td>False</td>\n",
       "      <td>True</td>\n",
       "      <td>False</td>\n",
       "      <td>True</td>\n",
       "      <td>False</td>\n",
       "      <td>1</td>\n",
       "      <td>True</td>\n",
       "    </tr>\n",
       "  </tbody>\n",
       "</table>\n",
       "<p>5 rows × 56 columns</p>\n",
       "</div>"
      ],
      "text/plain": [
       "      country country_iso             core_city  uc_id  cc_avg_dir   \n",
       "0      brazil         BRA                gurupi   1167    0.025382  \\\n",
       "1     ecuador         ECU                pasaje    435    0.019233   \n",
       "2    colombia         COL  el_carmen_de_bolivar    608    0.029501   \n",
       "3  kazakhstan         KAZ             zhanaozen   5649    0.026850   \n",
       "4       china         CHN                juxian  11648    0.043680   \n",
       "\n",
       "   cc_avg_undir  cc_wt_avg_dir  cc_wt_avg_undir  circuity  elev_iqr  ...   \n",
       "0      0.031759       0.001664         0.001856  1.010663      19.0  ...  \\\n",
       "1      0.021797       0.001809         0.001994  1.019819       4.0  ...   \n",
       "2      0.029762       0.001410         0.001443  1.019432      26.0  ...   \n",
       "3      0.031626       0.002316         0.002450  1.023291       7.0  ...   \n",
       "4      0.047587       0.003427         0.003780  1.009743       4.0  ...   \n",
       "\n",
       "   meshedness_coefficient   pop_density  prop_used_area    big  organic   \n",
       "0                0.979855   9288.154109        0.350082  False     True  \\\n",
       "1                1.006275  23517.269167        0.261534  False     True   \n",
       "2                1.087108  26846.920532        0.313369  False     True   \n",
       "3                1.026153  10670.246699        0.381292  False     True   \n",
       "4                0.906621   4773.471552        0.598367  False     True   \n",
       "\n",
       "   3_way_cities  type_one_city  type_two_city  city_type  chosen  \n",
       "0         False           True          False          1    True  \n",
       "1         False           True          False          1    True  \n",
       "2         False           True          False          1    True  \n",
       "3         False          False           True          2    True  \n",
       "4         False           True          False          1    True  \n",
       "\n",
       "[5 rows x 56 columns]"
      ]
     },
     "execution_count": 90,
     "metadata": {},
     "output_type": "execute_result"
    }
   ],
   "source": [
    "planned_df.head()"
   ]
  },
  {
   "cell_type": "code",
   "execution_count": 95,
   "id": "9b1462e5-c69f-48e3-bc56-e5923e8a3216",
   "metadata": {},
   "outputs": [
    {
     "data": {
      "image/png": "[encoded data removed]",
      "text/plain": [
       "<Figure size 640x480 with 1 Axes>"
      ]
     },
     "metadata": {},
     "output_type": "display_data"
    }
   ],
   "source": [
    "top = 20\n",
    "ax = planned_df['country_iso'].value_counts()[:top].plot.bar()\n",
    "ax.set_title(f\"Num of planned cities per country (top {top})\")\n",
    "plt.show()"
   ]
  },
  {
   "cell_type": "code",
   "execution_count": 96,
   "id": "72becfcd-72d1-48aa-8822-99a7a42d64ff",
   "metadata": {},
   "outputs": [
    {
     "data": {
      "text/html": [
       "<div>\n",
       "<style scoped>\n",
       "    .dataframe tbody tr th:only-of-type {\n",
       "        vertical-align: middle;\n",
       "    }\n",
       "\n",
       "    .dataframe tbody tr th {\n",
       "        vertical-align: top;\n",
       "    }\n",
       "\n",
       "    .dataframe thead th {\n",
       "        text-align: right;\n",
       "    }\n",
       "</style>\n",
       "<table border=\"1\" class=\"dataframe\">\n",
       "  <thead>\n",
       "    <tr style=\"text-align: right;\">\n",
       "      <th></th>\n",
       "      <th>count</th>\n",
       "      <th>mean</th>\n",
       "      <th>std</th>\n",
       "      <th>min</th>\n",
       "      <th>25%</th>\n",
       "      <th>50%</th>\n",
       "      <th>75%</th>\n",
       "      <th>max</th>\n",
       "    </tr>\n",
       "  </thead>\n",
       "  <tbody>\n",
       "    <tr>\n",
       "      <th>node_count</th>\n",
       "      <td>313.0</td>\n",
       "      <td>3290.869010</td>\n",
       "      <td>11335.079102</td>\n",
       "      <td>9.000000</td>\n",
       "      <td>545.000000</td>\n",
       "      <td>1509.000000</td>\n",
       "      <td>2866.000000</td>\n",
       "      <td>162623.000000</td>\n",
       "    </tr>\n",
       "    <tr>\n",
       "      <th>k_avg</th>\n",
       "      <td>313.0</td>\n",
       "      <td>3.223357</td>\n",
       "      <td>0.163385</td>\n",
       "      <td>2.222222</td>\n",
       "      <td>3.137931</td>\n",
       "      <td>3.241865</td>\n",
       "      <td>3.330544</td>\n",
       "      <td>3.646295</td>\n",
       "    </tr>\n",
       "  </tbody>\n",
       "</table>\n",
       "</div>"
      ],
      "text/plain": [
       "            count         mean           std       min         25%   \n",
       "node_count  313.0  3290.869010  11335.079102  9.000000  545.000000  \\\n",
       "k_avg       313.0     3.223357      0.163385  2.222222    3.137931   \n",
       "\n",
       "                    50%          75%            max  \n",
       "node_count  1509.000000  2866.000000  162623.000000  \n",
       "k_avg          3.241865     3.330544       3.646295  "
      ]
     },
     "execution_count": 96,
     "metadata": {},
     "output_type": "execute_result"
    }
   ],
   "source": [
    "planned_df[['node_count', 'k_avg']].describe().T"
   ]
  },
  {
   "cell_type": "code",
   "execution_count": 97,
   "id": "f79449e9-07f7-40fe-bec1-6d80f218538b",
   "metadata": {},
   "outputs": [
    {
     "data": {
      "text/plain": [
       "<Axes: ylabel='Frequency'>"
      ]
     },
     "execution_count": 97,
     "metadata": {},
     "output_type": "execute_result"
    },
    {
     "data": {
      "image/png": "[encoded data removed]",
      "text/plain": [
       "<Figure size 640x480 with 1 Axes>"
      ]
     },
     "metadata": {},
     "output_type": "display_data"
    }
   ],
   "source": [
    "planned_df['node_count'].plot.hist(bins=30)"
   ]
  },
  {
   "cell_type": "code",
   "execution_count": 98,
   "id": "6db7a0fa-2162-484d-8171-7b8ff48fc97e",
   "metadata": {},
   "outputs": [
    {
     "data": {
      "text/plain": [
       "<Axes: ylabel='Frequency'>"
      ]
     },
     "execution_count": 98,
     "metadata": {},
     "output_type": "execute_result"
    },
    {
     "data": {
      "image/png": "[encoded data removed]",
      "text/plain": [
       "<Figure size 640x480 with 1 Axes>"
      ]
     },
     "metadata": {},
     "output_type": "display_data"
    }
   ],
   "source": [
    "all_cities_df['node_count'].plot.hist(bins=30)"
   ]
  },
  {
   "cell_type": "markdown",
   "id": "b2e9f81b-17f2-4079-ab9e-b0108ef0d4f1",
   "metadata": {},
   "source": [
    "Como os grafos tem, em média, grau 3.23, é esperado que tenham 3.23 * num_nodes arestas para cada grafo. Como existem grafos com muitos nós, por exemplo, mais que 40 mil, isso acarretaria em um custo alto de memória para o node2vec e outros carregarem. Assim, vou considerar para análise apenas grafos com menos de 30 mil nós."
   ]
  },
  {
   "cell_type": "code",
   "execution_count": 99,
   "id": "4a189237-e71f-462f-a1bd-9c032035f5b7",
   "metadata": {},
   "outputs": [],
   "source": [
    "planned_df = planned_df.query('node_count < 30000')\n",
    "all_cities_df = all_cities_df.query('node_count < 30000')"
   ]
  },
  {
   "cell_type": "code",
   "execution_count": 100,
   "id": "03d5647e-ea4f-4ef3-9fc5-25d68808a325",
   "metadata": {},
   "outputs": [
    {
     "data": {
      "text/plain": [
       "((311, 56), (8736, 102))"
      ]
     },
     "execution_count": 100,
     "metadata": {},
     "output_type": "execute_result"
    }
   ],
   "source": [
    "planned_df.shape, all_cities_df.shape"
   ]
  },
  {
   "cell_type": "code",
   "execution_count": 101,
   "id": "96c32c12-e117-44f8-a128-54f87b3cd708",
   "metadata": {},
   "outputs": [],
   "source": [
    "planned_cities_ids = planned_df['uc_id'].tolist()"
   ]
  },
  {
   "cell_type": "code",
   "execution_count": 102,
   "id": "1b1b1d6f-e1e5-465c-93cb-1a4a7527c2f0",
   "metadata": {},
   "outputs": [
    {
     "data": {
      "text/plain": [
       "311"
      ]
     },
     "execution_count": 102,
     "metadata": {},
     "output_type": "execute_result"
    }
   ],
   "source": [
    "len(planned_cities_ids)"
   ]
  },
  {
   "cell_type": "code",
   "execution_count": 103,
   "id": "1f8e8848-18be-4b43-b326-6a84ffdbbd5a",
   "metadata": {},
   "outputs": [],
   "source": [
    "all_cities_ids = all_cities_df['uc_id'].tolist()"
   ]
  },
  {
   "cell_type": "code",
   "execution_count": 104,
   "id": "c42aaddc-44c5-492b-b736-6a6a73e1710f",
   "metadata": {},
   "outputs": [
    {
     "data": {
      "text/plain": [
       "8736"
      ]
     },
     "execution_count": 104,
     "metadata": {},
     "output_type": "execute_result"
    }
   ],
   "source": [
    "len(all_cities_ids)"
   ]
  },
  {
   "cell_type": "code",
   "execution_count": 105,
   "id": "0108c59b-11a5-4f30-a9df-aa4efac47619",
   "metadata": {},
   "outputs": [],
   "source": [
    "not_planned_cities_ids = list(set(all_cities_ids) - set(planned_cities_ids))"
   ]
  },
  {
   "cell_type": "code",
   "execution_count": 106,
   "id": "0b96c9ad-13ec-4863-ae89-7c16d4ee3460",
   "metadata": {},
   "outputs": [
    {
     "data": {
      "text/plain": [
       "8425"
      ]
     },
     "execution_count": 106,
     "metadata": {},
     "output_type": "execute_result"
    }
   ],
   "source": [
    "len(not_planned_cities_ids)"
   ]
  },
  {
   "cell_type": "code",
   "execution_count": 107,
   "id": "926879d2-0a15-4c58-8f69-5ca7df3c3c17",
   "metadata": {},
   "outputs": [],
   "source": [
    "import random"
   ]
  },
  {
   "cell_type": "code",
   "execution_count": 129,
   "id": "37655142-d95d-41d9-934f-89234c9a86f6",
   "metadata": {},
   "outputs": [],
   "source": [
    "random.seed(43)\n",
    "\n",
    "random_planned_cities = random.sample(planned_cities_ids, k=150)\n",
    "random_not_planned_cities = random.sample(not_planned_cities_ids, k=150)"
   ]
  },
  {
   "cell_type": "code",
   "execution_count": 130,
   "id": "89c57385-fb1e-4b54-b3b0-edeacc9af84d",
   "metadata": {},
   "outputs": [
    {
     "data": {
      "text/plain": [
       "(150, 150)"
      ]
     },
     "execution_count": 130,
     "metadata": {},
     "output_type": "execute_result"
    }
   ],
   "source": [
    "len(set(random_planned_cities)), len(set(random_not_planned_cities))"
   ]
  },
  {
   "cell_type": "code",
   "execution_count": 131,
   "id": "9230443d-3f8a-4240-9124-3c521a083fde",
   "metadata": {},
   "outputs": [
    {
     "data": {
      "text/plain": [
       "150"
      ]
     },
     "execution_count": 131,
     "metadata": {},
     "output_type": "execute_result"
    }
   ],
   "source": [
    "len(set(random_planned_cities) - set(random_not_planned_cities))"
   ]
  },
  {
   "cell_type": "code",
   "execution_count": 132,
   "id": "d0b2e55c-bfd6-4832-b5d2-09e09117754c",
   "metadata": {},
   "outputs": [],
   "source": [
    "random_planned_cities_metrics = all_cities_df[all_cities_df['uc_id'].isin(random_planned_cities)]\n",
    "random_not_planned_cities_metrics = all_cities_df[all_cities_df['uc_id'].isin(random_not_planned_cities)]"
   ]
  },
  {
   "cell_type": "code",
   "execution_count": 133,
   "id": "bf1f0dd6-8a0e-42e3-9e2e-99d70795b4f9",
   "metadata": {},
   "outputs": [
    {
     "data": {
      "image/png": "[encoded data removed]",
      "text/plain": [
       "<Figure size 640x480 with 1 Axes>"
      ]
     },
     "metadata": {},
     "output_type": "display_data"
    }
   ],
   "source": [
    "ax = random_planned_cities_metrics['country_iso'].value_counts().plot(kind='bar')\n",
    "ax.set_title(\"Countries of 150 planned cities sample\")\n",
    "plt.show()"
   ]
  },
  {
   "cell_type": "code",
   "execution_count": 136,
   "id": "96f74339-4dac-4154-a2ec-74163afd831f",
   "metadata": {},
   "outputs": [
    {
     "data": {
      "image/png": "[encoded data removed]",
      "text/plain": [
       "<Figure size 640x480 with 1 Axes>"
      ]
     },
     "metadata": {},
     "output_type": "display_data"
    }
   ],
   "source": [
    "top = 25\n",
    "ax = random_not_planned_cities_metrics['country_iso'].value_counts()[:top].plot(kind='bar')\n",
    "ax.set_title(f\"Countries of 150 not planned cities sample (top {top})\")\n",
    "plt.show()"
   ]
  },
  {
   "cell_type": "code",
   "execution_count": 137,
   "id": "05d12ba0-8681-4cb6-917d-d8531cf9b426",
   "metadata": {},
   "outputs": [],
   "source": [
    "import pickle"
   ]
  },
  {
   "cell_type": "code",
   "execution_count": 50,
   "id": "ba8d93ce-a598-4d38-ad2e-e5c431ad5c46",
   "metadata": {},
   "outputs": [],
   "source": [
    "def pickle_to_file(file_path, data):\n",
    "    with open(file_path, 'wb') as my_file:\n",
    "        pickle.dump(data, my_file)\n",
    "\n",
    "target_folder = pathlib.Path(\"../../data/POC2_data\")\n",
    "target_folder.mkdir(parents=True, exist_ok=True)\n",
    "\n",
    "target_planned_cities_file = target_folder / 'random_planned_cities_id.pkl'\n",
    "target_not_planned_cities_file = target_folder / 'random_not_planned_cities_id.pkl'\n",
    "\n",
    "pickle_to_file(target_planned_cities_file, random_planned_cities)\n",
    "pickle_to_file(target_not_planned_cities_file, random_not_planned_cities)"
   ]
  },
  {
   "cell_type": "code",
   "execution_count": 51,
   "id": "fa3c1148-42f0-44b0-b6d4-0c522109222b",
   "metadata": {},
   "outputs": [
    {
     "name": "stdout",
     "output_type": "stream",
     "text": [
      "[1120, 668, 11957, 4193, 1639, 4311, 2882, 10778, 995, 1676, 12756, 1255, 10872, 1471, 3610, 201, 357, 1334, 5309, 1050, 3504, 330, 1565, 5526, 5649, 87, 503, 1010, 3742, 4508, 660, 5434, 1425, 1470, 10121, 1209, 473, 5765, 1084, 61, 3638, 5929, 1062, 3621, 11510, 521, 343, 3525, 3544, 2842, 384, 3319, 2768, 4509, 10958, 4415, 1199, 10711, 1086, 3732, 3233, 11946, 1109, 4069, 1231, 5820, 647, 2633, 10172, 63, 70, 10238, 1171, 3835, 10179, 1220, 1358, 3831, 1624, 1135, 1089, 1058, 496, 4204, 3819, 424, 12413, 4246, 1181, 444, 955, 11690, 1088, 1102, 1096, 80, 1125, 4322, 447, 11920, 611, 11137, 5525, 1064, 2618, 1168, 418, 10487, 4363, 235, 1717, 1156, 3584, 1239, 10143, 71, 414, 4549, 1182, 994, 223, 584, 2844, 1049, 10131, 918, 352, 11071, 1506, 1137, 10846, 2848, 5428, 1744, 4031, 10226, 1578, 3352, 5563, 5449, 1138, 10880, 622, 1090, 608, 2540, 1196, 1055, 3484, 6619]\n",
      "[7252, 11583, 3271, 11942, 60, 6411, 12809, 3716, 12955, 2149, 7440, 4163, 3149, 10479, 3335, 12, 8405, 12586, 396, 2244, 10283, 7754, 5782, 1206, 5813, 1604, 1736, 12541, 1409, 2508, 2560, 12354, 3410, 6456, 11373, 4506, 4237, 7915, 10942, 10469, 11644, 11904, 2421, 5956, 5175, 1316, 9149, 428, 5436, 4852, 145, 1443, 1224, 5383, 1377, 645, 8671, 1440, 13134, 5732, 6786, 12532, 4579, 2686, 12309, 5866, 12314, 11090, 3949, 1899, 1960, 11514, 10062, 11380, 11163, 12195, 1112, 1990, 1257, 11008, 9234, 2202, 5972, 3971, 3946, 11847, 2862, 11353, 3817, 6788, 12114, 5998, 1542, 11741, 1981, 1024, 295, 1880, 5680, 3434, 11079, 12535, 12461, 4559, 10979, 1219, 3401, 10572, 40, 10786, 6459, 11968, 7008, 11371, 12552, 3191, 3941, 7371, 4716, 1217, 1263, 7990, 1188, 1014, 12380, 12854, 3256, 1180, 12961, 1628, 3862, 1395, 1386, 5633, 11028, 2401, 5922, 815, 1661, 11306, 8094, 6337, 4320, 8022, 5754, 6469, 10885, 2637, 7496, 12011]\n"
     ]
    }
   ],
   "source": [
    "def unpickle_from_file(file_path):\n",
    "    with open(file_path, 'rb') as my_file:\n",
    "        data = pickle.load(my_file)\n",
    "    return data\n",
    "\n",
    "teste = unpickle_from_file(target_planned_cities_file)\n",
    "print(teste)\n",
    "teste = unpickle_from_file(target_not_planned_cities_file)\n",
    "print(teste)"
   ]
  },
  {
   "cell_type": "code",
   "execution_count": 75,
   "id": "e54d08a6-4007-4395-8afb-cdab5a668507",
   "metadata": {},
   "outputs": [
    {
     "data": {
      "text/plain": [
       "((150, 102), (150, 102))"
      ]
     },
     "execution_count": 75,
     "metadata": {},
     "output_type": "execute_result"
    }
   ],
   "source": [
    "random_planned_cities_metrics.shape, random_not_planned_cities_metrics.shape"
   ]
  },
  {
   "cell_type": "code",
   "execution_count": null,
   "id": "7e4f2fe4-9c12-44ee-bba3-766b5456062b",
   "metadata": {},
   "outputs": [],
   "source": []
  }
 ],
 "metadata": {
  "kernelspec": {
   "display_name": "poc2-venv",
   "language": "python",
   "name": "poc2-venv"
  },
  "language_info": {
   "codemirror_mode": {
    "name": "ipython",
    "version": 3
   },
   "file_extension": ".py",
   "mimetype": "text/x-python",
   "name": "python",
   "nbconvert_exporter": "python",
   "pygments_lexer": "ipython3",
   "version": "3.10.6"
  }
 },
 "nbformat": 4,
 "nbformat_minor": 5
}
